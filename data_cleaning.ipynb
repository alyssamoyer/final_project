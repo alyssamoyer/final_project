{
 "cells": [
  {
   "cell_type": "code",
   "execution_count": 1,
   "metadata": {},
   "outputs": [],
   "source": [
    "#Import Dependencies\n",
    "import pandas as pd\n",
    "import csv\n",
    "import matplotlib.pyplot as plt\n",
    "import numpy as np"
   ]
  },
  {
   "cell_type": "markdown",
   "metadata": {},
   "source": [
    "# Loading and Cleaning Data"
   ]
  },
  {
   "cell_type": "code",
   "execution_count": 2,
   "metadata": {},
   "outputs": [
    {
     "data": {
      "text/plain": [
       "Index(['Country', 'Year', 'Status', 'Life Expectancy', 'Adult Mortality',\n",
       "       'Infant Deaths', 'Alcohol', 'Percentage Expenditure', 'Hepatitis B',\n",
       "       'Measles', 'Bmi', 'Under-Five Deaths', 'Polio', 'Total Expenditure',\n",
       "       'Diphtheria', 'Hiv/Aids', 'Gdp', 'Population', 'Thinness 1-19 Years',\n",
       "       'Thinness 5-9 Years', 'Income Composition Of Resources', 'Schooling'],\n",
       "      dtype='object')"
      ]
     },
     "execution_count": 2,
     "metadata": {},
     "output_type": "execute_result"
    }
   ],
   "source": [
    "#loading the master file and variable imports\n",
    "file = \"resources/life_expectancy.csv\"\n",
    "thedata = pd.read_csv(file)\n",
    "themajordata = thedata\n",
    "#lowercase and remove spaces/parenthesis from country names\n",
    "thedata['Country'] = thedata['Country'].replace(' ','', regex=True).\\\n",
    "                    replace('/','', regex=True).replace(',','', regex=True).replace('-','', regex=True).\\\n",
    "                    str.lower().str.split('(').str[0]\n",
    "\n",
    "#rename columns\n",
    "for x in range(len(thedata.columns)):\n",
    "    thedata = thedata.rename(columns={thedata.columns[x]:thedata.columns[x].title().replace(\"  \",\" \")})\n",
    "    if thedata.columns[x][0]==\" \":\n",
    "        thedata = thedata.rename(columns={thedata.columns[x]:thedata.columns[x][1:]})\n",
    "    if thedata.columns[x][-1]==\" \":\n",
    "        thedata = thedata.rename(columns={thedata.columns[x]:thedata.columns[x][:-1]})\n",
    "thedata.columns"
   ]
  },
  {
   "cell_type": "code",
   "execution_count": 3,
   "metadata": {},
   "outputs": [],
   "source": [
    "#Create the Data Range selection for the other csv files\n",
    "startyear=2000\n",
    "endyear=2015\n",
    "yearlist = [\"Country\"]\n",
    "yearlistloop = [yearlist.append(str(x)) for x in range(startyear, endyear+1)]"
   ]
  },
  {
   "cell_type": "code",
   "execution_count": 4,
   "metadata": {},
   "outputs": [
    {
     "name": "stdout",
     "output_type": "stream",
     "text": [
      "{'resources/fdi.csv': 'Fdi', 'resources/birth_per_woman.csv': 'Birth Per Woman', 'resources/water.csv': 'Water', 'resources/military.csv': 'Military', 'resources/cellphone.csv': 'Cellphone'}\n"
     ]
    }
   ],
   "source": [
    "#Create the list of csvs to loop through\n",
    "files = {}\n",
    "values = [\"fdi\", \"birth_per_woman\",  \"water\",\"military\",\"cellphone\"]\n",
    "#values = [\"fdi\", \"birth_per_woman\", \"roads\", \"water\",\"sanitation\", \"roads\",\"tax\",\"military\",\"democracy\",\"armsimport\", \"armsexport\",  \"middleincome\",\"math4\", \"gini\",\"out_of_pocket_share\",\"aid_perperson\",\"poverty\",\"electricity\",\"cellphone\"]\n",
    "for i in range(len(values)):\n",
    "     files[f\"resources/{values[i]}.csv\"] = values[i].title().replace(\"_\",\" \")\n",
    "print(files)"
   ]
  },
  {
   "cell_type": "code",
   "execution_count": 5,
   "metadata": {
    "scrolled": false
   },
   "outputs": [],
   "source": [
    "#Data storage\n",
    "all_data=[]\n",
    "listcountry= []\n",
    "#File Loop\n",
    "for key,value in files.items():\n",
    "    if key[-3:]==\"csv\":\n",
    "        try:\n",
    "            data = pd.read_csv(key)\n",
    "            data = data.rename(columns={\"country\":\"Country\"})\n",
    "        except:\n",
    "            #WorldBank Data\n",
    "            data = pd.read_csv(key, header = [2])\n",
    "            data = data.rename(columns={\"Country Name\":\"Country\"})\n",
    "    data[\"Country\"] = data[\"Country\"].str.lower().str.replace(' ', '', regex=True)\n",
    "    #change country names\n",
    "    data[\"Country\"].str.replace('st.', 'saint', regex=True)\n",
    "    data[\"Country\"].str.replace(\"coted'ivoire\", \"côted'ivoire\", regex=True)\n",
    "    data[\"Country\"].str.replace(\",the\", '', regex=True)\n",
    "    data[\"Country\"].str.replace(\"korea,dem.peopleâ€™srep.\", \"democraticpeople'srepublicofkorea\", regex=True)\n",
    "    data[\"Country\"].str.replace(\"russia\", \"russianfederation\", regex=True)\n",
    "    data[\"Country\"].str.replace('egypt,arabrep.', 'egypt', regex=True)\n",
    "    data[\"Country\"].str.replace('korea,rep.', 'republicofkorea', regex=True)\n",
    "    data[\"Country\"].str.replace('northmacedonia', 'theformeryugoslavrepublicofmacedonia', regex=True)\n",
    "    data[\"Country\"].str.replace(',fed.sts.', '', regex=True)\n",
    "    data[\"Country\"].str.replace(',rb', '', regex=True)\n",
    "    data[\"Country\"].str.replace('tanzania', 'unitedrepublicoftanzania', regex=True)\n",
    "    data[\"Country\"].str.replace('yemen,rep.', 'yemen', regex=True)\n",
    "    data[\"Country\"].str.replace('laopdr', \"laopeople'sdemocraticrepublic\", regex=True)\n",
    "    data[\"Country\"].str.replace('unitedstates', 'unitedstatesofamerica', regex=True)\n",
    "    data[\"Country\"].str.replace('moldov', 'republicofmoldov', regex=True)\n",
    "    data[\"Country\"].str.replace('congo,dem.rep.', 'democraticrepublicofthecongo', regex=True)\n",
    "    data[\"Country\"].str.replace('congo,rep', 'congo', regex=True)\n",
    "    listcountry.append(data[\"Country\"].unique())\n",
    "    try:\n",
    "        data = pd.melt(data[yearlist], id_vars=[\"Country\"], value_vars=yearlist[1:])\n",
    "    except:\n",
    "        #data incomplete for the year range\n",
    "        columns = [\"Country\"]\n",
    "        for col in data.columns[1:]:\n",
    "            if int(col)>= startyear:\n",
    "                columns.append(col)\n",
    "        data = pd.melt(data[columns], id_vars=[\"Country\"], value_vars=columns[1:])\n",
    "    new = data.rename(columns={\"variable\":\"Year\", \"value\":value})\n",
    "    new[\"Year\"] = new[\"Year\"].astype({'Year': 'int64'})\n",
    "    all_data.append(new)"
   ]
  },
  {
   "cell_type": "markdown",
   "metadata": {},
   "source": [
    "# Merging Data"
   ]
  },
  {
   "cell_type": "code",
   "execution_count": 8,
   "metadata": {},
   "outputs": [
    {
     "data": {
      "text/plain": [
       "Index(['Country', 'Year', 'Life Expectancy', 'Adult Mortality',\n",
       "       'Infant Deaths', 'Alcohol', 'Percentage Expenditure', 'Hepatitis B',\n",
       "       'Measles', 'Bmi', 'Under-Five Deaths', 'Polio', 'Total Expenditure',\n",
       "       'Diphtheria', 'Hiv/Aids', 'Gdp', 'Population', 'Thinness 1-19 Years',\n",
       "       'Thinness 5-9 Years', 'Schooling', 'Fdi', 'Birth Per Woman', 'Water',\n",
       "       'Military', 'Status Developed'],\n",
       "      dtype='object')"
      ]
     },
     "execution_count": 8,
     "metadata": {},
     "output_type": "execute_result"
    }
   ],
   "source": [
    "#looping list to merge all the data\n",
    "alldata = thedata.copy()\n",
    "for x in range(len(all_data)-1): \n",
    "    alldata = alldata.merge(all_data[x], on=[\"Country\",\"Year\"], how='left')\n",
    "alldata = pd.get_dummies(alldata, columns=[\"Status\"])\n",
    "alldata = alldata.drop(columns=['Status_Developing',\"Income Composition Of Resources\"])\n",
    "alldata = alldata.rename(columns={'Status_Developed':'Status Developed'})\n",
    "alldata.columns"
   ]
  },
  {
   "cell_type": "code",
   "execution_count": 9,
   "metadata": {
    "scrolled": true
   },
   "outputs": [
    {
     "data": {
      "text/plain": [
       "Country                   2938\n",
       "Year                      2938\n",
       "Life Expectancy           2928\n",
       "Adult Mortality           2928\n",
       "Infant Deaths             2938\n",
       "Alcohol                   2744\n",
       "Percentage Expenditure    2938\n",
       "Hepatitis B               2385\n",
       "Measles                   2938\n",
       "Bmi                       2904\n",
       "Under-Five Deaths         2938\n",
       "Polio                     2919\n",
       "Total Expenditure         2712\n",
       "Diphtheria                2919\n",
       "Hiv/Aids                  2938\n",
       "Gdp                       2490\n",
       "Population                2286\n",
       "Thinness 1-19 Years       2904\n",
       "Thinness 5-9 Years        2904\n",
       "Schooling                 2775\n",
       "Fdi                       2439\n",
       "Birth Per Woman           2560\n",
       "Water                     2544\n",
       "Military                  2086\n",
       "Status Developed          2938\n",
       "dtype: int64"
      ]
     },
     "execution_count": 9,
     "metadata": {},
     "output_type": "execute_result"
    }
   ],
   "source": [
    "alldata.count()"
   ]
  },
  {
   "cell_type": "code",
   "execution_count": 10,
   "metadata": {},
   "outputs": [],
   "source": [
    "#Create master CSV\n",
    "alldata.to_csv('resources/all_data.csv')\n",
    "alldatafinal = alldata.dropna(how=\"any\")\n",
    "alldatafinal.to_csv('resources/all_data_final.csv')"
   ]
  },
  {
   "cell_type": "code",
   "execution_count": null,
   "metadata": {},
   "outputs": [],
   "source": []
  }
 ],
 "metadata": {
  "kernelspec": {
   "display_name": "Python 3",
   "language": "python",
   "name": "python3"
  },
  "language_info": {
   "codemirror_mode": {
    "name": "ipython",
    "version": 3
   },
   "file_extension": ".py",
   "mimetype": "text/x-python",
   "name": "python",
   "nbconvert_exporter": "python",
   "pygments_lexer": "ipython3",
   "version": "3.7.4"
  }
 },
 "nbformat": 4,
 "nbformat_minor": 2
}
