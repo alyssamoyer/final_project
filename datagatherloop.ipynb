{
 "cells": [
  {
   "cell_type": "code",
   "execution_count": 1,
   "metadata": {},
   "outputs": [],
   "source": [
    "#Import Dependencies\n",
    "import pandas as pd\n",
    "import csv\n",
    "import matplotlib.pyplot as plt\n",
    "import numpy as np"
   ]
  },
  {
   "cell_type": "code",
   "execution_count": 59,
   "metadata": {},
   "outputs": [],
   "source": [
    "#major files and variable imports\n",
    "file = \"resources/life_aid_2000_2015.csv\"\n",
    "thedata = pd.read_csv(file)\n",
    "themajordata = thedata\n",
    "thedata.head()\n",
    "\n",
    "#Datarange selection\n",
    "startyear=2000\n",
    "endyear=2015\n",
    "yearlist = [\"country\"]\n",
    "yearlistloop = [yearlist.append(str(x)) for x in range(startyear, endyear+1)]\n"
   ]
  },
  {
   "cell_type": "code",
   "execution_count": 60,
   "metadata": {},
   "outputs": [
    {
     "name": "stdout",
     "output_type": "stream",
     "text": [
      "{'resources/fdi.csv': 'fdi', 'resources/birth_per_woman.csv': 'birth_per_woman', 'resources/water.csv': 'water', 'resources/math4.csv': 'math4', 'resources/gini.csv': 'gini'}\n"
     ]
    }
   ],
   "source": [
    "files = {}\n",
    "values = [\"fdi\", \"birth_per_woman\", \"water\", \"math4\", \"gini\"]\n",
    "for i in range(len(values)):\n",
    "     files[f\"resources/{values[i]}.csv\"] = values[i]\n",
    "print(files)"
   ]
  },
  {
   "cell_type": "code",
   "execution_count": 61,
   "metadata": {
    "scrolled": false
   },
   "outputs": [],
   "source": [
    "#Data storage\n",
    "all_data=[]\n",
    "\n",
    "#File Loop\n",
    "for key,value in files.items():\n",
    "    if key[-3:]==\"csv\":\n",
    "        try:\n",
    "            data = pd.read_csv(key)\n",
    "        except:\n",
    "            #WorldBank Data\n",
    "            data = pd.read_csv(key, header = [2])\n",
    "            data = data.rename(columns={\"Country Name\":\"country\"})\n",
    "\n",
    "    data[\"country\"] = data[\"country\"].str.lower().str.replace(' ', '', regex=True)\n",
    "    #change country names\n",
    "    data[\"country\"].str.replace('st.', 'saint', regex=True)\n",
    "    data[\"country\"].str.replace(\"coted'ivoire\", \"côted'ivoire\", regex=True)\n",
    "    data[\"country\"].str.replace(\",the\", '', regex=True)\n",
    "    data[\"country\"].str.replace(\"korea,dem.peopleâ€™srep.\", \"democraticpeople'srepublicofkorea\", regex=True)\n",
    "    data[\"country\"].str.replace('egypt,arabrep.', 'egypt', regex=True)\n",
    "    data[\"country\"].str.replace('korea,rep.', 'republicofkorea', regex=True)\n",
    "    data[\"country\"].str.replace('northmacedonia', 'theformeryugoslavrepublicofmacedonia', regex=True)\n",
    "    data[\"country\"].str.replace(',fed.sts.', '', regex=True)\n",
    "    data[\"country\"].str.replace(',rb', '', regex=True)\n",
    "    data[\"country\"].str.replace('tanzania', 'unitedrepublicoftanzania', regex=True)\n",
    "    data[\"country\"].str.replace('yemen,rep.', 'yemen', regex=True)\n",
    "    data[\"country\"].str.replace('laopdr', \"laopeople'sdemocraticrepublic\", regex=True)\n",
    "    data[\"country\"].str.replace('unitedstates', 'unitedstatesofamerica', regex=True)\n",
    "    data[\"country\"].str.replace('moldov', 'republicofmoldov', regex=True)\n",
    "    data[\"country\"].str.replace('congo,dem.rep.', 'democraticrepublicofthecongo', regex=True)\n",
    "    data[\"country\"].str.replace('congo,rep', 'congo', regex=True)\n",
    "\n",
    "    try:\n",
    "        data = pd.melt(data[yearlist], id_vars=[\"country\"], value_vars=yearlist[1:])\n",
    "    except:\n",
    "        #data incomplete for the year range\n",
    "        columns = [\"country\"]\n",
    "        for col in data.columns[1:]:\n",
    "            if int(col)>= startyear:\n",
    "                columns.append(col)\n",
    "        data = pd.melt(data[columns], id_vars=[\"country\"], value_vars=columns[1:])\n",
    "    new = data.rename(columns={\"variable\":\"year\", \"value\":value})\n",
    "    new[\"year\"] = new[\"year\"].astype({'year': 'int64'})\n",
    "    all_data.append(new)\n",
    "    new.head()"
   ]
  },
  {
   "cell_type": "code",
   "execution_count": null,
   "metadata": {
    "scrolled": false
   },
   "outputs": [],
   "source": []
  },
  {
   "cell_type": "code",
   "execution_count": null,
   "metadata": {},
   "outputs": [],
   "source": []
  },
  {
   "cell_type": "code",
   "execution_count": null,
   "metadata": {},
   "outputs": [],
   "source": []
  }
 ],
 "metadata": {
  "kernelspec": {
   "display_name": "Python 3",
   "language": "python",
   "name": "python3"
  },
  "language_info": {
   "codemirror_mode": {
    "name": "ipython",
    "version": 3
   },
   "file_extension": ".py",
   "mimetype": "text/x-python",
   "name": "python",
   "nbconvert_exporter": "python",
   "pygments_lexer": "ipython3",
   "version": "3.7.4"
  }
 },
 "nbformat": 4,
 "nbformat_minor": 2
}
